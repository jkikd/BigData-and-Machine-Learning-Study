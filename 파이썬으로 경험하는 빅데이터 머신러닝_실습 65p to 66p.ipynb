{
 "cells": [
  {
   "cell_type": "markdown",
   "metadata": {},
   "source": [
    "실습 65p"
   ]
  },
  {
   "cell_type": "markdown",
   "metadata": {},
   "source": [
    "1) 시작"
   ]
  },
  {
   "cell_type": "markdown",
   "metadata": {},
   "source": [
    "주피터 노트북 분석 보고서 작성"
   ]
  },
  {
   "cell_type": "markdown",
   "metadata": {},
   "source": [
    "2) 문단 제목용 글자 사이즈 조절"
   ]
  },
  {
   "cell_type": "markdown",
   "metadata": {},
   "source": [
    "# HTML과 같은 효과\n",
    "# 파이썬 분석 보고서\n",
    "## 파이썬 분석 보고서\n",
    "### 파이썬 분석 보고서"
   ]
  },
  {
   "cell_type": "markdown",
   "metadata": {},
   "source": [
    "3) 강조"
   ]
  },
  {
   "cell_type": "markdown",
   "metadata": {},
   "source": [
    "# Emphasis 강조\n",
    "\n",
    "_이텔릭체_ , *이텔릭*\n",
    "__볼드체__ , **볼드체**\n",
    "___이텔릭볼드체___\n",
    "***이텔릭볼드체***\n",
    "**이렇게 _할수도_**\n",
    "~~취소선추가~~"
   ]
  },
  {
   "cell_type": "markdown",
   "metadata": {},
   "source": [
    "4) 링크 추가"
   ]
  },
  {
   "cell_type": "markdown",
   "metadata": {},
   "source": [
    "### 그냥 주소를 써도 링크로 클릭됨\n",
    "www.daga.go.kr\n",
    "### 주소를 숨기고 주소에 이름을 줄 수 있다\n",
    "[공공데이터 포털](www.daga.go.kr)"
   ]
  },
  {
   "cell_type": "code",
   "execution_count": null,
   "metadata": {},
   "outputs": [],
   "source": []
  }
 ],
 "metadata": {
  "kernelspec": {
   "display_name": "Python 3",
   "language": "python",
   "name": "python3"
  },
  "language_info": {
   "codemirror_mode": {
    "name": "ipython",
    "version": 3
   },
   "file_extension": ".py",
   "mimetype": "text/x-python",
   "name": "python",
   "nbconvert_exporter": "python",
   "pygments_lexer": "ipython3",
   "version": "3.6.5"
  }
 },
 "nbformat": 4,
 "nbformat_minor": 4
}
